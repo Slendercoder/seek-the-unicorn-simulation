{
 "cells": [
  {
   "cell_type": "code",
   "execution_count": 1,
   "metadata": {},
   "outputs": [
    {
     "name": "stdout",
     "output_type": "stream",
     "text": [
      "/usr/local/Cellar/jupyterlab/2.2.9_1/libexec/bin/python\n"
     ]
    }
   ],
   "source": [
    "import sys\n",
    "print(sys.executable) \n",
    "sys.path.append('/usr/local/lib/python3.9/site-packages')"
   ]
  },
  {
   "cell_type": "code",
   "execution_count": 2,
   "metadata": {},
   "outputs": [],
   "source": [
    "import numpy as np\n",
    "import pandas as pd\n",
    "import seaborn as sns"
   ]
  },
  {
   "cell_type": "code",
   "execution_count": 3,
   "metadata": {},
   "outputs": [
    {
     "data": {
      "text/html": [
       "<div>\n",
       "<style scoped>\n",
       "    .dataframe tbody tr th:only-of-type {\n",
       "        vertical-align: middle;\n",
       "    }\n",
       "\n",
       "    .dataframe tbody tr th {\n",
       "        vertical-align: top;\n",
       "    }\n",
       "\n",
       "    .dataframe thead th {\n",
       "        text-align: right;\n",
       "    }\n",
       "</style>\n",
       "<table border=\"1\" class=\"dataframe\">\n",
       "  <thead>\n",
       "    <tr style=\"text-align: right;\">\n",
       "      <th></th>\n",
       "      <th>index</th>\n",
       "      <th>Dyad</th>\n",
       "      <th>Round</th>\n",
       "      <th>Player</th>\n",
       "      <th>Answer</th>\n",
       "      <th>Time</th>\n",
       "      <th>a11</th>\n",
       "      <th>a12</th>\n",
       "      <th>a13</th>\n",
       "      <th>a14</th>\n",
       "      <th>...</th>\n",
       "      <th>DLIndex</th>\n",
       "      <th>Similarity</th>\n",
       "      <th>Score_LAG1</th>\n",
       "      <th>Norm_Score_LAG1</th>\n",
       "      <th>Consistency_LEAD1</th>\n",
       "      <th>Dif_consist_LAG1</th>\n",
       "      <th>Category_LAG1</th>\n",
       "      <th>RegionGo</th>\n",
       "      <th>RegionGo2</th>\n",
       "      <th>Similarity_LAG1</th>\n",
       "    </tr>\n",
       "  </thead>\n",
       "  <tbody>\n",
       "    <tr>\n",
       "      <th>0</th>\n",
       "      <td>0</td>\n",
       "      <td>604223901</td>\n",
       "      <td>1</td>\n",
       "      <td>6042</td>\n",
       "      <td>Absent</td>\n",
       "      <td>7</td>\n",
       "      <td>0</td>\n",
       "      <td>1</td>\n",
       "      <td>0</td>\n",
       "      <td>0</td>\n",
       "      <td>...</td>\n",
       "      <td>0.171875</td>\n",
       "      <td>6</td>\n",
       "      <td>NaN</td>\n",
       "      <td>NaN</td>\n",
       "      <td>0.000000</td>\n",
       "      <td>NaN</td>\n",
       "      <td>NaN</td>\n",
       "      <td>RS</td>\n",
       "      <td>RS</td>\n",
       "      <td>NaN</td>\n",
       "    </tr>\n",
       "    <tr>\n",
       "      <th>1</th>\n",
       "      <td>0</td>\n",
       "      <td>604223901</td>\n",
       "      <td>2</td>\n",
       "      <td>6042</td>\n",
       "      <td>Absent</td>\n",
       "      <td>7</td>\n",
       "      <td>0</td>\n",
       "      <td>0</td>\n",
       "      <td>0</td>\n",
       "      <td>0</td>\n",
       "      <td>...</td>\n",
       "      <td>0.328125</td>\n",
       "      <td>7</td>\n",
       "      <td>-66.0</td>\n",
       "      <td>0.38750</td>\n",
       "      <td>0.062500</td>\n",
       "      <td>NaN</td>\n",
       "      <td>RS</td>\n",
       "      <td>RS</td>\n",
       "      <td>RS</td>\n",
       "      <td>6.0</td>\n",
       "    </tr>\n",
       "    <tr>\n",
       "      <th>2</th>\n",
       "      <td>0</td>\n",
       "      <td>604223901</td>\n",
       "      <td>3</td>\n",
       "      <td>6042</td>\n",
       "      <td>Absent</td>\n",
       "      <td>10</td>\n",
       "      <td>1</td>\n",
       "      <td>0</td>\n",
       "      <td>1</td>\n",
       "      <td>0</td>\n",
       "      <td>...</td>\n",
       "      <td>0.203125</td>\n",
       "      <td>10</td>\n",
       "      <td>32.0</td>\n",
       "      <td>1.00000</td>\n",
       "      <td>0.062500</td>\n",
       "      <td>0.045455</td>\n",
       "      <td>RS</td>\n",
       "      <td>RS</td>\n",
       "      <td>RS</td>\n",
       "      <td>7.0</td>\n",
       "    </tr>\n",
       "    <tr>\n",
       "      <th>3</th>\n",
       "      <td>0</td>\n",
       "      <td>604223901</td>\n",
       "      <td>4</td>\n",
       "      <td>6042</td>\n",
       "      <td>Absent</td>\n",
       "      <td>9</td>\n",
       "      <td>0</td>\n",
       "      <td>0</td>\n",
       "      <td>0</td>\n",
       "      <td>0</td>\n",
       "      <td>...</td>\n",
       "      <td>0.312500</td>\n",
       "      <td>7</td>\n",
       "      <td>31.0</td>\n",
       "      <td>0.99375</td>\n",
       "      <td>0.111111</td>\n",
       "      <td>0.062500</td>\n",
       "      <td>RS</td>\n",
       "      <td>RS</td>\n",
       "      <td>RS</td>\n",
       "      <td>10.0</td>\n",
       "    </tr>\n",
       "    <tr>\n",
       "      <th>4</th>\n",
       "      <td>0</td>\n",
       "      <td>604223901</td>\n",
       "      <td>5</td>\n",
       "      <td>6042</td>\n",
       "      <td>Absent</td>\n",
       "      <td>13</td>\n",
       "      <td>0</td>\n",
       "      <td>0</td>\n",
       "      <td>0</td>\n",
       "      <td>1</td>\n",
       "      <td>...</td>\n",
       "      <td>0.421875</td>\n",
       "      <td>13</td>\n",
       "      <td>30.0</td>\n",
       "      <td>0.98750</td>\n",
       "      <td>0.052632</td>\n",
       "      <td>0.095395</td>\n",
       "      <td>RS</td>\n",
       "      <td>RS</td>\n",
       "      <td>RS</td>\n",
       "      <td>7.0</td>\n",
       "    </tr>\n",
       "  </tbody>\n",
       "</table>\n",
       "<p>5 rows × 95 columns</p>\n",
       "</div>"
      ],
      "text/plain": [
       "   index       Dyad  Round  Player  Answer  Time  a11  a12  a13  a14  ...  \\\n",
       "0      0  604223901      1    6042  Absent     7    0    1    0    0  ...   \n",
       "1      0  604223901      2    6042  Absent     7    0    0    0    0  ...   \n",
       "2      0  604223901      3    6042  Absent    10    1    0    1    0  ...   \n",
       "3      0  604223901      4    6042  Absent     9    0    0    0    0  ...   \n",
       "4      0  604223901      5    6042  Absent    13    0    0    0    1  ...   \n",
       "\n",
       "    DLIndex  Similarity  Score_LAG1  Norm_Score_LAG1  Consistency_LEAD1  \\\n",
       "0  0.171875           6         NaN              NaN           0.000000   \n",
       "1  0.328125           7       -66.0          0.38750           0.062500   \n",
       "2  0.203125          10        32.0          1.00000           0.062500   \n",
       "3  0.312500           7        31.0          0.99375           0.111111   \n",
       "4  0.421875          13        30.0          0.98750           0.052632   \n",
       "\n",
       "   Dif_consist_LAG1  Category_LAG1  RegionGo  RegionGo2  Similarity_LAG1  \n",
       "0               NaN            NaN        RS         RS              NaN  \n",
       "1               NaN             RS        RS         RS              6.0  \n",
       "2          0.045455             RS        RS         RS              7.0  \n",
       "3          0.062500             RS        RS         RS             10.0  \n",
       "4          0.095395             RS        RS         RS              7.0  \n",
       "\n",
       "[5 rows x 95 columns]"
      ]
     },
     "execution_count": 3,
     "metadata": {},
     "output_type": "execute_result"
    }
   ],
   "source": [
    "df_WS = pd.read_csv('./Data/output1.csv')\n",
    "df_WS.head()"
   ]
  },
  {
   "cell_type": "code",
   "execution_count": null,
   "metadata": {},
   "outputs": [],
   "source": [
    "df_humans['Model'] = 'Humans'\n",
    "df_WS['Model'] = 'WSLS'\n",
    "#df_FR['Model'] = 'FRA'\n",
    "#df = pd.concat([df_MB, df_WS, df_FR])\n",
    "df = pd.concat([df_WS∫])\n",
    "df.head(2)"
   ]
  },
  {
   "cell_type": "code",
   "execution_count": 5,
   "metadata": {},
   "outputs": [
    {
     "name": "stderr",
     "output_type": "stream",
     "text": [
      "/usr/local/lib/python3.9/site-packages/seaborn/distributions.py:2557: FutureWarning: `distplot` is a deprecated function and will be removed in a future version. Please adapt your code to use either `displot` (a figure-level function with similar flexibility) or `histplot` (an axes-level function for histograms).\n",
      "  warnings.warn(msg, FutureWarning)\n"
     ]
    },
    {
     "data": {
      "text/plain": [
       "<AxesSubplot:xlabel='DLIndex', ylabel='Density'>"
      ]
     },
     "execution_count": 5,
     "metadata": {},
     "output_type": "execute_result"
    },
    {
     "data": {
      "image/png": "[encoded data removed]",
      "text/plain": [
       "<Figure size 432x288 with 1 Axes>"
      ]
     },
     "metadata": {
      "needs_background": "light"
     },
     "output_type": "display_data"
    }
   ],
   "source": [
    "aux = df.groupby(['Model', 'Round'])['DLIndex'].mean().reset_index()\n",
    "fig, axes = plt.subplots(1, 2, figsize=(8,4))\n",
    "sns.lineplot(x='Round', y='DLIndex', hue='Model', data=aux, palette=colores, ax=axes[0])\n",
    "for key, grp in aux.groupby('Model'):\n",
    "    sns.distplot(grp['DLIndex'], ax=axes[1], hist=True, label=key, color=colores[key])\n",
    "plt.show()"
   ]
  },
  {
   "cell_type": "code",
   "execution_count": null,
   "metadata": {},
   "outputs": [],
   "source": []
  }
 ],
 "metadata": {
  "kernelspec": {
   "display_name": "Python 3",
   "language": "python",
   "name": "python3"
  },
  "language_info": {
   "codemirror_mode": {
    "name": "ipython",
    "version": 3
   },
   "file_extension": ".py",
   "mimetype": "text/x-python",
   "name": "python",
   "nbconvert_exporter": "python",
   "pygments_lexer": "ipython3",
   "version": "3.9.1"
  }
 },
 "nbformat": 4,
 "nbformat_minor": 4
}
